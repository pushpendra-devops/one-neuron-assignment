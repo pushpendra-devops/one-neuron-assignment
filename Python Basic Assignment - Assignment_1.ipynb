{
 "cells": [
  {
   "cell_type": "code",
   "execution_count": 3,
   "id": "31abe3da",
   "metadata": {},
   "outputs": [
    {
     "data": {
      "text/plain": [
       "\" Question 1. In the below elements which of them are values or an expression? eg:- values can be integer or string and expressions will be mathematical operators.\\n* \\n'hello'\\n-87.8\\n- \\n/ \\n+\\t\\n6 \\n\\nAnswer:\\n------------\\nValues or expression are are : 'hello' , -87.8, 6\\nOperators : + , - , / , *\\n\\n\""
      ]
     },
     "execution_count": 3,
     "metadata": {},
     "output_type": "execute_result"
    }
   ],
   "source": [
    "\"\"\" Question 1. In the below elements which of them are values or an expression? eg:- values can be integer or string and expressions will be mathematical operators.\n",
    "* \n",
    "'hello'\n",
    "-87.8\n",
    "- \n",
    "/ \n",
    "+\t\n",
    "6 \n",
    "\n",
    "Answer:\n",
    "------------\n",
    "Values or expression are are : 'hello' , -87.8, 6\n",
    "Operators : + , - , / , *\n",
    "\n",
    "\"\"\""
   ]
  },
  {
   "cell_type": "code",
   "execution_count": null,
   "id": "ecbd88d5",
   "metadata": {},
   "outputs": [],
   "source": []
  },
  {
   "cell_type": "code",
   "execution_count": 12,
   "id": "3f08bc77",
   "metadata": {},
   "outputs": [
    {
     "name": "stdout",
     "output_type": "stream",
     "text": [
      "Hello\n",
      "<class 'str'>\n"
     ]
    }
   ],
   "source": [
    "''' Question 2. What is the difference between string and variable?\n",
    "\n",
    "Answer: \n",
    "Variable : Variable is a container which stores data.Variables can store data of different types. \n",
    "String : String is a data type which is used for letters, characters, words, phrases, or symbols.\n",
    "\n",
    "'''\n",
    "x = 'Hello'\n",
    "print(x)\n",
    "print(type(x))"
   ]
  },
  {
   "cell_type": "code",
   "execution_count": null,
   "id": "102d8319",
   "metadata": {},
   "outputs": [],
   "source": []
  },
  {
   "cell_type": "code",
   "execution_count": 40,
   "id": "8fd7c914",
   "metadata": {},
   "outputs": [
    {
     "name": "stdout",
     "output_type": "stream",
     "text": [
      "Type of i : <class 'int'>\n",
      "Type of j : <class 'int'>\n",
      "Type of k : <class 'int'>\n",
      "\n",
      "Type of a : <class 'float'>\n",
      "Type of b : <class 'float'>\n",
      "Type of c : <class 'float'>\n",
      "\n",
      "Type of x:  <class 'complex'>\n",
      "Type of y:  <class 'complex'>\n",
      "\n",
      "Type of r:  <class 'bool'>\n",
      "Type of s:  <class 'bool'>\n",
      "Type of t:  <class 'bool'>\n",
      "\n",
      "Type of k:  <class 'str'>\n"
     ]
    }
   ],
   "source": [
    "# Question 3. Describe three different data types.\n",
    "\n",
    "# Number or Numeric : 1. Intiger , 2. c, 3. Complex\n",
    "# Boolen : Bool\n",
    "# String\n",
    "\n",
    "# Intiger : whole number, positive or negative, without decimals.\n",
    "i = 10\n",
    "j= -5\n",
    "k = 12087\n",
    "\n",
    "print('Type of i :',type(i))\n",
    "print('Type of j :',type(j))\n",
    "print('Type of k :',type(k))\n",
    "\n",
    "print()\n",
    "\n",
    "# Float :  positive or negative number containing one or more decimals.\n",
    "\n",
    "a = 10.0\n",
    "b = -5.01\n",
    "c = 1000.0887\n",
    "\n",
    "print('Type of a :',type(a))\n",
    "print('Type of b :',type(b))\n",
    "print('Type of c :',type(c))\n",
    "print()\n",
    "\n",
    "# Complex: Real and imaginary part where imaginary part written with 'j'\n",
    "x = 1+2j\n",
    "y = 10-5j\n",
    "\n",
    "print('Type of x: ', type(x))\n",
    "print('Type of y: ', type(y))\n",
    "print()\n",
    "\n",
    "# Boolean :  Boolean represent True or False. During comparison we get results in boolean.\n",
    "r = True\n",
    "s = False\n",
    "t = 10>5\n",
    "\n",
    "print('Type of r: ', type(r))\n",
    "print('Type of s: ', type(s))\n",
    "print('Type of t: ', type(t))\n",
    "print()\n",
    "\n",
    "# String : String is a data type which is used for letters, characters, words, phrases, or symbols.\n",
    "k = 'Hello'\n",
    "print('Type of k: ', type(k))\n"
   ]
  },
  {
   "cell_type": "code",
   "execution_count": null,
   "id": "cf877c0c",
   "metadata": {},
   "outputs": [],
   "source": []
  },
  {
   "cell_type": "markdown",
   "id": "b9b62ca9",
   "metadata": {},
   "source": [
    "\n",
    "Question 4. What is an expression made up of? What do all expressions do?\n",
    "\n",
    "Answer:  An expression is a combination of operators and operands that is interpreted to produce some other value. \n",
    "\n",
    "    +\tx + y\tAddition\n",
    "\n",
    "    –\tx – y\tSubtraction\n",
    "\n",
    "    *\tx * y\tMultiplication\n",
    "\n",
    "    /\tx / y\tDivision\n",
    "\n",
    "    //\tx // y\tQuotient\n",
    "\n",
    "    %\tx % y\tRemainder\n",
    "\n",
    "    **\tx ** y\tExponentiation\n",
    "\n",
    "\n",
    "\n"
   ]
  },
  {
   "cell_type": "code",
   "execution_count": null,
   "id": "7d1ce5dc",
   "metadata": {},
   "outputs": [],
   "source": []
  },
  {
   "cell_type": "code",
   "execution_count": 43,
   "id": "168ae306",
   "metadata": {},
   "outputs": [
    {
     "data": {
      "text/plain": [
       "' \\nQuestion 5 : What is the difference between an expression and a statement?\\n\\nAnswer: \\nExpression : An expression is a combination of operators and operands that is interpreted to produce some other value\\nStatement : Statement which is just a standalone unit of execution and does not return anything\\n\\n\\n'"
      ]
     },
     "execution_count": 43,
     "metadata": {},
     "output_type": "execute_result"
    }
   ],
   "source": [
    "''' \n",
    "Question 5 : What is the difference between an expression and a statement?\n",
    "\n",
    "Answer: \n",
    "Expression : An expression is a combination of operators and operands that is interpreted to produce some other value\n",
    "Statement : Statement which is just a standalone unit of execution and does not return anything\n",
    "\n",
    "\n",
    "'''\n",
    "\n"
   ]
  },
  {
   "cell_type": "code",
   "execution_count": null,
   "id": "1440ce55",
   "metadata": {},
   "outputs": [],
   "source": []
  },
  {
   "cell_type": "code",
   "execution_count": 52,
   "id": "2ab8e73d",
   "metadata": {},
   "outputs": [
    {
     "data": {
      "text/plain": [
       "22"
      ]
     },
     "execution_count": 52,
     "metadata": {},
     "output_type": "execute_result"
    }
   ],
   "source": [
    "''' \n",
    "6. After running the following code, what does the variable bacon contain?\n",
    "bacon = 22\n",
    "bacon + 1\n",
    "'''\n",
    "bacon = 22\n",
    "bacon + 1\n",
    "\n",
    "bacon  \n",
    "\n",
    "#Answer: bacon still contain 22 as we have not assign +1 to bacon ( bacon = bacon +1 or bacon +=1)\n"
   ]
  },
  {
   "cell_type": "code",
   "execution_count": null,
   "id": "1093360c",
   "metadata": {},
   "outputs": [],
   "source": []
  },
  {
   "cell_type": "code",
   "execution_count": 57,
   "id": "d761237e",
   "metadata": {},
   "outputs": [
    {
     "name": "stdout",
     "output_type": "stream",
     "text": [
      "spamspamspam\n",
      "spamspamspam\n"
     ]
    }
   ],
   "source": [
    "'''\n",
    "Question 7. What should the values of the following two terms be?\n",
    "'spam' + 'spamspam'\n",
    "'spam' * 3\n",
    "'''\n",
    "\n",
    "# 'spam' + 'spamspam'   : here + operator concat both sting\n",
    "\n",
    "con = 'spam' + 'spamspam'\n",
    "print(con)\n",
    "\n",
    "# 'spam' * 3  : Here spam will repeate 3 times with out space \n",
    "\n",
    "print('spam' * 3)"
   ]
  },
  {
   "cell_type": "code",
   "execution_count": null,
   "id": "2b79be0b",
   "metadata": {},
   "outputs": [],
   "source": []
  },
  {
   "cell_type": "code",
   "execution_count": 59,
   "id": "448620af",
   "metadata": {},
   "outputs": [
    {
     "data": {
      "text/plain": [
       "'\\nQuestion 8. Why is eggs a valid variable name while 100 is invalid?\\n\\nRules for variable name\\nA variable name must start with a letter or the underscore character\\nA variable name cannot start with a number\\nA variable name can only contain alpha-numeric characters and underscores (A-z, 0-9, and _ )\\nVariable names are case-sensitive (age, Age and AGE are three different variables)\\n\\n\\n\\n'"
      ]
     },
     "execution_count": 59,
     "metadata": {},
     "output_type": "execute_result"
    }
   ],
   "source": [
    "'''\n",
    "Question 8. Why is eggs a valid variable name while 100 is invalid?\n",
    "\n",
    "Rules for variable name\n",
    "A variable name must start with a letter or the underscore character\n",
    "A variable name cannot start with a number\n",
    "A variable name can only contain alpha-numeric characters and underscores (A-z, 0-9, and _ )\n",
    "Variable names are case-sensitive (age, Age and AGE are three different variables)\n",
    "\n",
    "\n",
    "\n",
    "'''\n"
   ]
  },
  {
   "cell_type": "code",
   "execution_count": null,
   "id": "e4e6f07c",
   "metadata": {},
   "outputs": [],
   "source": []
  },
  {
   "cell_type": "code",
   "execution_count": 68,
   "id": "c31ca48f",
   "metadata": {},
   "outputs": [
    {
     "name": "stdout",
     "output_type": "stream",
     "text": [
      "type of a:  <class 'int'>\n",
      "Type of b : <class 'float'>\n",
      "Type of c : <class 'str'>\n"
     ]
    }
   ],
   "source": [
    "# 9. What three functions can be used to get the integer, floating-point number, or string version of a value?\n",
    "\n",
    "x = '10'\n",
    "y = 20.01\n",
    "z = 234\n",
    "\n",
    "int()   # To get intiger\n",
    "a = int(x)\n",
    "print('type of a: ',type(a))\n",
    "\n",
    "float() # To get float\n",
    "b = float(z)\n",
    "print('Type of b :', type(b))\n",
    "\n",
    "str()   # To get string\n",
    "c = str(y)\n",
    "print('Type of c :', type(c))\n"
   ]
  },
  {
   "cell_type": "code",
   "execution_count": null,
   "id": "79d783c7",
   "metadata": {},
   "outputs": [],
   "source": []
  },
  {
   "cell_type": "code",
   "execution_count": 67,
   "id": "19c3802e",
   "metadata": {},
   "outputs": [
    {
     "data": {
      "text/plain": [
       "'I have eaten 99 burritos.'"
      ]
     },
     "execution_count": 67,
     "metadata": {},
     "output_type": "execute_result"
    }
   ],
   "source": [
    "\"\"\"\n",
    "10. Why does this expression cause an error? How can you fix it?\n",
    "'I have eaten ' + 99 + ' burritos.'\n",
    "\n",
    "\"\"\"\n",
    "\n",
    "# Here 99 is not str and therefore we are getting error. If we convert 99 into str then it will work in this case.\n",
    "\n",
    "'I have eaten ' + str(99) + ' burritos.'"
   ]
  },
  {
   "cell_type": "code",
   "execution_count": null,
   "id": "b082808a",
   "metadata": {},
   "outputs": [],
   "source": []
  }
 ],
 "metadata": {
  "kernelspec": {
   "display_name": "Python 3",
   "language": "python",
   "name": "python3"
  },
  "language_info": {
   "codemirror_mode": {
    "name": "ipython",
    "version": 3
   },
   "file_extension": ".py",
   "mimetype": "text/x-python",
   "name": "python",
   "nbconvert_exporter": "python",
   "pygments_lexer": "ipython3",
   "version": "3.8.8"
  }
 },
 "nbformat": 4,
 "nbformat_minor": 5
}
